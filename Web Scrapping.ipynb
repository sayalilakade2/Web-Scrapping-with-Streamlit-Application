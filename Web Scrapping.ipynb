{
 "cells": [
  {
   "cell_type": "code",
   "execution_count": 13,
   "id": "8b789471",
   "metadata": {},
   "outputs": [
    {
     "name": "stdout",
     "output_type": "stream",
     "text": [
      "Defaulting to user installation because normal site-packages is not writeableNote: you may need to restart the kernel to use updated packages.\n",
      "\n",
      "Requirement already satisfied: requests in c:\\users\\sayal\\appdata\\roaming\\python\\python39\\site-packages (2.32.2)\n",
      "Requirement already satisfied: beautifulsoup4 in c:\\sayal\\anaconda3\\lib\\site-packages (4.11.1)\n",
      "Requirement already satisfied: pandas in c:\\sayal\\anaconda3\\lib\\site-packages (1.4.4)\n",
      "Requirement already satisfied: charset-normalizer<4,>=2 in c:\\sayal\\anaconda3\\lib\\site-packages (from requests) (2.0.4)\n",
      "Requirement already satisfied: idna<4,>=2.5 in c:\\sayal\\anaconda3\\lib\\site-packages (from requests) (3.3)\n",
      "Requirement already satisfied: urllib3<3,>=1.21.1 in c:\\sayal\\anaconda3\\lib\\site-packages (from requests) (1.26.11)\n",
      "Requirement already satisfied: certifi>=2017.4.17 in c:\\users\\sayal\\appdata\\roaming\\python\\python39\\site-packages (from requests) (2024.2.2)\n",
      "Requirement already satisfied: soupsieve>1.2 in c:\\sayal\\anaconda3\\lib\\site-packages (from beautifulsoup4) (2.3.1)\n",
      "Requirement already satisfied: python-dateutil>=2.8.1 in c:\\sayal\\anaconda3\\lib\\site-packages (from pandas) (2.8.2)\n",
      "Requirement already satisfied: pytz>=2020.1 in c:\\users\\sayal\\appdata\\roaming\\python\\python39\\site-packages (from pandas) (2022.7.1)\n",
      "Requirement already satisfied: numpy>=1.18.5 in c:\\users\\sayal\\appdata\\roaming\\python\\python39\\site-packages (from pandas) (1.26.4)\n",
      "Requirement already satisfied: six>=1.5 in c:\\sayal\\anaconda3\\lib\\site-packages (from python-dateutil>=2.8.1->pandas) (1.16.0)\n"
     ]
    },
    {
     "name": "stderr",
     "output_type": "stream",
     "text": [
      "\n",
      "[notice] A new release of pip is available: 24.0 -> 24.2\n",
      "[notice] To update, run: python.exe -m pip install --upgrade pip\n"
     ]
    }
   ],
   "source": [
    "pip install requests beautifulsoup4 pandas"
   ]
  },
  {
   "cell_type": "code",
   "execution_count": 2,
   "id": "e0329309-6737-4740-919b-79008e2f2a6f",
   "metadata": {
    "scrolled": true
   },
   "outputs": [
    {
     "name": "stdout",
     "output_type": "stream",
     "text": [
      "Collecting selenium\n",
      "  Downloading selenium-4.23.1-py3-none-any.whl.metadata (7.1 kB)\n",
      "Requirement already satisfied: urllib3<3,>=1.26 in c:\\users\\sayal\\appdata\\local\\programs\\python\\python311\\lib\\site-packages (from urllib3[socks]<3,>=1.26->selenium) (1.26.18)\n",
      "Collecting trio~=0.17 (from selenium)\n",
      "  Downloading trio-0.26.2-py3-none-any.whl.metadata (8.6 kB)\n",
      "Collecting trio-websocket~=0.9 (from selenium)\n",
      "  Downloading trio_websocket-0.11.1-py3-none-any.whl.metadata (4.7 kB)\n",
      "Requirement already satisfied: certifi>=2021.10.8 in c:\\users\\sayal\\appdata\\local\\programs\\python\\python311\\lib\\site-packages (from selenium) (2023.11.17)\n",
      "Requirement already satisfied: typing_extensions~=4.9 in c:\\users\\sayal\\appdata\\local\\programs\\python\\python311\\lib\\site-packages (from selenium) (4.9.0)\n",
      "Requirement already satisfied: websocket-client~=1.8 in c:\\users\\sayal\\appdata\\local\\programs\\python\\python311\\lib\\site-packages (from selenium) (1.8.0)\n",
      "Requirement already satisfied: attrs>=23.2.0 in c:\\users\\sayal\\appdata\\local\\programs\\python\\python311\\lib\\site-packages (from trio~=0.17->selenium) (23.2.0)\n",
      "Collecting sortedcontainers (from trio~=0.17->selenium)\n",
      "  Downloading sortedcontainers-2.4.0-py2.py3-none-any.whl.metadata (10 kB)\n",
      "Requirement already satisfied: idna in c:\\users\\sayal\\appdata\\local\\programs\\python\\python311\\lib\\site-packages (from trio~=0.17->selenium) (2.10)\n",
      "Collecting outcome (from trio~=0.17->selenium)\n",
      "  Downloading outcome-1.3.0.post0-py2.py3-none-any.whl.metadata (2.6 kB)\n",
      "Requirement already satisfied: sniffio>=1.3.0 in c:\\users\\sayal\\appdata\\local\\programs\\python\\python311\\lib\\site-packages (from trio~=0.17->selenium) (1.3.1)\n",
      "Requirement already satisfied: cffi>=1.14 in c:\\users\\sayal\\appdata\\local\\programs\\python\\python311\\lib\\site-packages (from trio~=0.17->selenium) (1.17.0)\n",
      "Collecting wsproto>=0.14 (from trio-websocket~=0.9->selenium)\n",
      "  Downloading wsproto-1.2.0-py3-none-any.whl.metadata (5.6 kB)\n",
      "Collecting PySocks!=1.5.7,<2.0,>=1.5.6 (from urllib3[socks]<3,>=1.26->selenium)\n",
      "  Downloading PySocks-1.7.1-py3-none-any.whl.metadata (13 kB)\n",
      "Requirement already satisfied: pycparser in c:\\users\\sayal\\appdata\\local\\programs\\python\\python311\\lib\\site-packages (from cffi>=1.14->trio~=0.17->selenium) (2.22)\n",
      "Requirement already satisfied: h11<1,>=0.9.0 in c:\\users\\sayal\\appdata\\local\\programs\\python\\python311\\lib\\site-packages (from wsproto>=0.14->trio-websocket~=0.9->selenium) (0.14.0)\n",
      "Downloading selenium-4.23.1-py3-none-any.whl (9.4 MB)\n",
      "   ---------------------------------------- 0.0/9.4 MB ? eta -:--:--\n",
      "   ---------------------------------------- 0.0/9.4 MB ? eta -:--:--\n",
      "   ---------------------------------------- 0.0/9.4 MB 2.0 MB/s eta 0:00:05\n",
      "   ---------------------------------------- 0.1/9.4 MB 1.3 MB/s eta 0:00:08\n",
      "    --------------------------------------- 0.2/9.4 MB 1.4 MB/s eta 0:00:07\n",
      "    --------------------------------------- 0.2/9.4 MB 1.4 MB/s eta 0:00:07\n",
      "   - -------------------------------------- 0.3/9.4 MB 1.3 MB/s eta 0:00:08\n",
      "   - -------------------------------------- 0.3/9.4 MB 1.2 MB/s eta 0:00:08\n",
      "   - -------------------------------------- 0.4/9.4 MB 1.3 MB/s eta 0:00:07\n",
      "   -- ------------------------------------- 0.5/9.4 MB 1.5 MB/s eta 0:00:06\n",
      "   -- ------------------------------------- 0.6/9.4 MB 1.5 MB/s eta 0:00:06\n",
      "   --- ------------------------------------ 0.7/9.4 MB 1.6 MB/s eta 0:00:06\n",
      "   --- ------------------------------------ 0.9/9.4 MB 1.7 MB/s eta 0:00:05\n",
      "   ---- ----------------------------------- 1.0/9.4 MB 1.8 MB/s eta 0:00:05\n",
      "   ---- ----------------------------------- 1.1/9.4 MB 1.9 MB/s eta 0:00:05\n",
      "   ----- ---------------------------------- 1.3/9.4 MB 2.0 MB/s eta 0:00:05\n",
      "   ------ --------------------------------- 1.5/9.4 MB 2.1 MB/s eta 0:00:04\n",
      "   ------ --------------------------------- 1.6/9.4 MB 2.2 MB/s eta 0:00:04\n",
      "   ------- -------------------------------- 1.8/9.4 MB 2.3 MB/s eta 0:00:04\n",
      "   -------- ------------------------------- 1.9/9.4 MB 2.4 MB/s eta 0:00:04\n",
      "   -------- ------------------------------- 2.1/9.4 MB 2.4 MB/s eta 0:00:04\n",
      "   --------- ------------------------------ 2.3/9.4 MB 2.5 MB/s eta 0:00:03\n",
      "   ---------- ----------------------------- 2.5/9.4 MB 2.6 MB/s eta 0:00:03\n",
      "   ----------- ---------------------------- 2.7/9.4 MB 2.6 MB/s eta 0:00:03\n",
      "   ------------ --------------------------- 2.9/9.4 MB 2.7 MB/s eta 0:00:03\n",
      "   ------------ --------------------------- 3.1/9.4 MB 2.8 MB/s eta 0:00:03\n",
      "   ------------- -------------------------- 3.3/9.4 MB 2.8 MB/s eta 0:00:03\n",
      "   -------------- ------------------------- 3.5/9.4 MB 2.9 MB/s eta 0:00:03\n",
      "   --------------- ------------------------ 3.7/9.4 MB 2.9 MB/s eta 0:00:02\n",
      "   ---------------- ----------------------- 3.9/9.4 MB 3.0 MB/s eta 0:00:02\n",
      "   ----------------- ---------------------- 4.1/9.4 MB 3.0 MB/s eta 0:00:02\n",
      "   ------------------ --------------------- 4.3/9.4 MB 3.1 MB/s eta 0:00:02\n",
      "   ------------------- -------------------- 4.6/9.4 MB 3.1 MB/s eta 0:00:02\n",
      "   -------------------- ------------------- 4.8/9.4 MB 3.2 MB/s eta 0:00:02\n",
      "   --------------------- ------------------ 5.0/9.4 MB 3.2 MB/s eta 0:00:02\n",
      "   ---------------------- ----------------- 5.2/9.4 MB 3.3 MB/s eta 0:00:02\n",
      "   ---------------------- ----------------- 5.4/9.4 MB 3.3 MB/s eta 0:00:02\n",
      "   ----------------------- ---------------- 5.7/9.4 MB 3.3 MB/s eta 0:00:02\n",
      "   ------------------------ --------------- 5.8/9.4 MB 3.4 MB/s eta 0:00:02\n",
      "   ------------------------- -------------- 6.1/9.4 MB 3.4 MB/s eta 0:00:01\n",
      "   -------------------------- ------------- 6.3/9.4 MB 3.4 MB/s eta 0:00:01\n",
      "   --------------------------- ------------ 6.5/9.4 MB 3.4 MB/s eta 0:00:01\n",
      "   ---------------------------- ----------- 6.7/9.4 MB 3.5 MB/s eta 0:00:01\n",
      "   ----------------------------- ---------- 6.9/9.4 MB 3.5 MB/s eta 0:00:01\n",
      "   ------------------------------ --------- 7.2/9.4 MB 3.6 MB/s eta 0:00:01\n",
      "   ------------------------------- -------- 7.4/9.4 MB 3.6 MB/s eta 0:00:01\n",
      "   -------------------------------- ------- 7.7/9.4 MB 3.6 MB/s eta 0:00:01\n",
      "   --------------------------------- ------ 7.9/9.4 MB 3.7 MB/s eta 0:00:01\n",
      "   ---------------------------------- ----- 8.2/9.4 MB 3.7 MB/s eta 0:00:01\n",
      "   ----------------------------------- ---- 8.5/9.4 MB 3.8 MB/s eta 0:00:01\n",
      "   ------------------------------------ --- 8.7/9.4 MB 3.8 MB/s eta 0:00:01\n",
      "   ------------------------------------- -- 8.9/9.4 MB 3.8 MB/s eta 0:00:01\n",
      "   -------------------------------------- - 9.2/9.4 MB 3.8 MB/s eta 0:00:01\n",
      "   ---------------------------------------  9.4/9.4 MB 3.8 MB/s eta 0:00:01\n",
      "   ---------------------------------------- 9.4/9.4 MB 3.8 MB/s eta 0:00:00\n",
      "Downloading trio-0.26.2-py3-none-any.whl (475 kB)\n",
      "   ---------------------------------------- 0.0/476.0 kB ? eta -:--:--\n",
      "   ----------------- ---------------------- 204.8/476.0 kB 6.3 MB/s eta 0:00:01\n",
      "   -------------------------------------- - 460.8/476.0 kB 4.8 MB/s eta 0:00:01\n",
      "   ---------------------------------------- 476.0/476.0 kB 4.3 MB/s eta 0:00:00\n",
      "Downloading trio_websocket-0.11.1-py3-none-any.whl (17 kB)\n",
      "Downloading PySocks-1.7.1-py3-none-any.whl (16 kB)\n",
      "Downloading wsproto-1.2.0-py3-none-any.whl (24 kB)\n",
      "Downloading outcome-1.3.0.post0-py2.py3-none-any.whl (10 kB)\n",
      "Downloading sortedcontainers-2.4.0-py2.py3-none-any.whl (29 kB)\n",
      "Installing collected packages: sortedcontainers, wsproto, PySocks, outcome, trio, trio-websocket, selenium\n",
      "Successfully installed PySocks-1.7.1 outcome-1.3.0.post0 selenium-4.23.1 sortedcontainers-2.4.0 trio-0.26.2 trio-websocket-0.11.1 wsproto-1.2.0\n",
      "Note: you may need to restart the kernel to use updated packages.\n"
     ]
    },
    {
     "name": "stderr",
     "output_type": "stream",
     "text": [
      "\n",
      "[notice] A new release of pip is available: 24.0 -> 24.2\n",
      "[notice] To update, run: python.exe -m pip install --upgrade pip\n"
     ]
    }
   ],
   "source": [
    "pip install selenium"
   ]
  },
  {
   "cell_type": "code",
   "execution_count": 2,
   "id": "56a449a6-5c8a-484a-9552-836e1ddba9ad",
   "metadata": {},
   "outputs": [],
   "source": [
    "import numpy as np\n",
    "import pandas as pd\n",
    "from bs4 import BeautifulSoup\n",
    "from selenium import webdriver\n",
    "import time"
   ]
  },
  {
   "cell_type": "code",
   "execution_count": 8,
   "id": "84645a67-7864-4254-ae7b-2fd46b95bf80",
   "metadata": {},
   "outputs": [
    {
     "ename": "FeatureNotFound",
     "evalue": "Couldn't find a tree builder with the features you requested: lxml. Do you need to install a parser library?",
     "output_type": "error",
     "traceback": [
      "\u001b[1;31m---------------------------------------------------------------------------\u001b[0m",
      "\u001b[1;31mFeatureNotFound\u001b[0m                           Traceback (most recent call last)",
      "Cell \u001b[1;32mIn[8], line 28\u001b[0m\n\u001b[0;32m     25\u001b[0m     \u001b[38;5;28;01mif\u001b[39;00m (screen_height) \u001b[38;5;241m*\u001b[39m A \u001b[38;5;241m>\u001b[39m scroll_height:\n\u001b[0;32m     26\u001b[0m         \u001b[38;5;28;01mbreak\u001b[39;00m\n\u001b[1;32m---> 28\u001b[0m soup \u001b[38;5;241m=\u001b[39m \u001b[43mBeautifulSoup\u001b[49m\u001b[43m(\u001b[49m\u001b[43mdriver\u001b[49m\u001b[38;5;241;43m.\u001b[39;49m\u001b[43mpage_source\u001b[49m\u001b[43m,\u001b[49m\u001b[38;5;124;43m'\u001b[39;49m\u001b[38;5;124;43mlxml\u001b[39;49m\u001b[38;5;124;43m'\u001b[39;49m\u001b[43m)\u001b[49m\n\u001b[0;32m     29\u001b[0m postings \u001b[38;5;241m=\u001b[39m soup\u001b[38;5;241m.\u001b[39mfind_all(\u001b[38;5;124m'\u001b[39m\u001b[38;5;124mdiv\u001b[39m\u001b[38;5;124m'\u001b[39m , class_\u001b[38;5;241m=\u001b[39m \u001b[38;5;124m'\u001b[39m\u001b[38;5;124mu-border-general--bottom\u001b[39m\u001b[38;5;124m'\u001b[39m)\n\u001b[0;32m     30\u001b[0m \u001b[38;5;28;01mfor\u001b[39;00m post \u001b[38;5;129;01min\u001b[39;00m postings:\n",
      "File \u001b[1;32m~\\AppData\\Local\\Programs\\Python\\Python311\\Lib\\site-packages\\bs4\\__init__.py:250\u001b[0m, in \u001b[0;36mBeautifulSoup.__init__\u001b[1;34m(self, markup, features, builder, parse_only, from_encoding, exclude_encodings, element_classes, **kwargs)\u001b[0m\n\u001b[0;32m    248\u001b[0m     builder_class \u001b[38;5;241m=\u001b[39m builder_registry\u001b[38;5;241m.\u001b[39mlookup(\u001b[38;5;241m*\u001b[39mfeatures)\n\u001b[0;32m    249\u001b[0m     \u001b[38;5;28;01mif\u001b[39;00m builder_class \u001b[38;5;129;01mis\u001b[39;00m \u001b[38;5;28;01mNone\u001b[39;00m:\n\u001b[1;32m--> 250\u001b[0m         \u001b[38;5;28;01mraise\u001b[39;00m FeatureNotFound(\n\u001b[0;32m    251\u001b[0m             \u001b[38;5;124m\"\u001b[39m\u001b[38;5;124mCouldn\u001b[39m\u001b[38;5;124m'\u001b[39m\u001b[38;5;124mt find a tree builder with the features you \u001b[39m\u001b[38;5;124m\"\u001b[39m\n\u001b[0;32m    252\u001b[0m             \u001b[38;5;124m\"\u001b[39m\u001b[38;5;124mrequested: \u001b[39m\u001b[38;5;132;01m%s\u001b[39;00m\u001b[38;5;124m. Do you need to install a parser library?\u001b[39m\u001b[38;5;124m\"\u001b[39m\n\u001b[0;32m    253\u001b[0m             \u001b[38;5;241m%\u001b[39m \u001b[38;5;124m\"\u001b[39m\u001b[38;5;124m,\u001b[39m\u001b[38;5;124m\"\u001b[39m\u001b[38;5;241m.\u001b[39mjoin(features))\n\u001b[0;32m    255\u001b[0m \u001b[38;5;66;03m# At this point either we have a TreeBuilder instance in\u001b[39;00m\n\u001b[0;32m    256\u001b[0m \u001b[38;5;66;03m# builder, or we have a builder_class that we can instantiate\u001b[39;00m\n\u001b[0;32m    257\u001b[0m \u001b[38;5;66;03m# with the remaining **kwargs.\u001b[39;00m\n\u001b[0;32m    258\u001b[0m \u001b[38;5;28;01mif\u001b[39;00m builder \u001b[38;5;129;01mis\u001b[39;00m \u001b[38;5;28;01mNone\u001b[39;00m:\n",
      "\u001b[1;31mFeatureNotFound\u001b[0m: Couldn't find a tree builder with the features you requested: lxml. Do you need to install a parser library?"
     ]
    }
   ],
   "source": [
    "df= pd.DataFrame({'Name':[''], 'Speciality':[''], 'Degree':[''], 'Year_of_experience':[''] , 'Location':[''] , 'City':[''] ,'dp_score':[''], 'npv':[''], 'consultation_fee':['']})\n",
    "\n",
    "lis=['Bangalore','Delhi','Mumbai']\n",
    "Speciality = ['Cardiologist', 'Chiropractor', 'Dentist', 'Dermatologist', 'Dietitian/Nutritionist', 'Gastroenterologist', 'bariatric surgeon', 'Gynecologist', 'Infertility Specialist', 'Neurologist', 'Neurosurgeon', 'Ophthalmologist', 'Orthopedist', 'Pediatrician', 'Physiotherapist', 'Psychiatrist', 'Pulmonologist', 'Rheumatologist', 'Urologist']\n",
    "\n",
    "for i in lis:\n",
    "    for j in Speciality:\n",
    "        driver = webdriver.Chrome()\n",
    "        url = f\"https://www.practo.com/search/doctors?results_type=doctor&q=%5B%7B%22word%22%3A%22\"+str(j)+\"%22%2C%22autocompleted%22%3Atrue%2C%22category%22%3A%22subspeciality%22%7D%5D&city=\"+str(i)\n",
    "        driver.get(url)\n",
    "        time.sleep(2)\n",
    "        \n",
    "        scroll_pause_time = 2 \n",
    "        screen_height = driver.execute_script(\"return window.screen.height;\") \n",
    "        A = 1\n",
    "\n",
    "        while True:\n",
    "            \n",
    "            driver.execute_script(\"window.scrollTo(0, {screen_height}*{A});\".format(screen_height=screen_height, A=A))\n",
    "            A += 1\n",
    "            time.sleep(scroll_pause_time)\n",
    "      \n",
    "            scroll_height = driver.execute_script(\"return document.body.scrollHeight;\")\n",
    "       \n",
    "            if (screen_height) * A > scroll_height:\n",
    "                break\n",
    "     \n",
    "        soup = BeautifulSoup(driver.page_source,'lxml')\n",
    "        postings = soup.find_all('div' , class_= 'u-border-general--bottom')\n",
    "        for post in postings:\n",
    "            try:\n",
    "                link = post.find('div' , class_ = 'listing-doctor-card').find('a').get('href')\n",
    "                link_full = 'https://www.practo.com'+link\n",
    "                driver.get(link_full)\n",
    "                soup2 = BeautifulSoup(driver.page_source,'lxml')\n",
    "\n",
    "                try:\n",
    "                    name = soup2.find('h1' , class_ = 'c-profile__title u-bold u-d-inlineblock').text\n",
    "                except:\n",
    "                    pass       \n",
    "                try:\n",
    "                    Degree = soup2.find('p' , class_ = 'c-profile__details').text\n",
    "                except:\n",
    "                    pass\n",
    "                try:\n",
    "                    Year_of_experience = soup2.find('div' , class_ = 'c-profile__details').find_all('h2')[-1].text\n",
    "                except:\n",
    "                    pass\n",
    "                try:\n",
    "                    Location = soup2.find('h4' , class_ = 'c-profile--clinic__location').text\n",
    "                except:\n",
    "                    pass\n",
    "                try:\n",
    "                    dp_score = soup2.find('span' , class_ = 'u-green-text u-bold u-large-font').text.strip()\n",
    "                except:\n",
    "                    pass\n",
    "                try:\n",
    "                    npv = soup2.find('span' , class_ = 'u-smallest-font u-grey_3-text').text\n",
    "                except:\n",
    "                    pass\n",
    "                try:\n",
    "                    consultant_fee = soup2.find('span' , class_ = 'u-strike').text.strip()\n",
    "                except:\n",
    "                    consultant_fee = soup2.find('div' , class_ = 'u-f-right u-large-font u-bold u-valign--middle u-lheight-normal').text.strip()\n",
    "                #appending all data into dataframe\n",
    "                df = df.append({'Name':name, 'Speciality':j, 'Degree':Degree, 'Year_of_experience':Year_of_experience , 'Location':Location , 'City':i ,'dp_score':dp_score, 'npv':npv, 'consultation_fee':consultant_fee} , ignore_index = True)\n",
    "            except:\n",
    "                pass"
   ]
  },
  {
   "cell_type": "code",
   "execution_count": null,
   "id": "dd04f352-7ab8-4f7d-9d22-e53baec251d0",
   "metadata": {},
   "outputs": [],
   "source": []
  },
  {
   "cell_type": "code",
   "execution_count": null,
   "id": "a680e2eb-f222-41b5-87c2-93f9ec6c92c5",
   "metadata": {},
   "outputs": [],
   "source": []
  },
  {
   "cell_type": "code",
   "execution_count": null,
   "id": "990fcf51-eb23-46d6-8399-b3ab1d59a89d",
   "metadata": {},
   "outputs": [],
   "source": []
  }
 ],
 "metadata": {
  "kernelspec": {
   "display_name": "Python 3 (ipykernel)",
   "language": "python",
   "name": "python3"
  },
  "language_info": {
   "codemirror_mode": {
    "name": "ipython",
    "version": 3
   },
   "file_extension": ".py",
   "mimetype": "text/x-python",
   "name": "python",
   "nbconvert_exporter": "python",
   "pygments_lexer": "ipython3",
   "version": "3.11.5"
  }
 },
 "nbformat": 4,
 "nbformat_minor": 5
}
